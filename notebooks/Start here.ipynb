{
 "cells": [
  {
   "cell_type": "markdown",
   "metadata": {},
   "source": [
    "# About SageMath\n",
    "\n",
    "[SageMath](https://www.sagemath.org) (Sage for short) is a general purpose computational mathematics system developed by a worldwide community of hundreds of researchers, teachers and engineers. It’s based on the Python programming language and includes GAP, PARI/GP, Singular, and dozens of other specialized libraries.\n",
    "\n",
    "This live document will guide you through the first steps of using Sage, and provide pointers to explore and learn further. In the following, we will be assuming that you are reading this document as a Jupyter notebook (Jupyter is the primary user interface\n",
    "for Sage).\n",
    "$\\def\\NN{\\mathbb{N}}\\def\\ZZ{\\mathbb{Z}}\\def\\QQ{\\mathbb{Q}}\\def\\RR{\\mathbb{R}}\\def\\CC{\\mathbb{C}}$\n",
    "<a id='index-0'></a>"
   ]
  },
  {
   "cell_type": "markdown",
   "metadata": {},
   "source": [
    "## A first calculation\n",
    "\n",
    "Sage can be used as a pocket calculator: you type in some expression to be calculated, Sage evaluates it, and prints the result; and repeat. This is called the *Read-Eval-Print-Loop*. In the Jupyter notebook, you type the expression in an **input cell**, or **code cell**. This is the rectangle below this paragraph containing $1+1$. Click on the cell to select it, and press shift-enter to evaluate it. You may instead click the Run button (right triangle) in the toolbar."
   ]
  },
  {
   "cell_type": "code",
   "execution_count": null,
   "metadata": {},
   "outputs": [],
   "source": [
    "1 + 1"
   ]
  },
  {
   "cell_type": "markdown",
   "metadata": {},
   "source": [
    "Sage prints out its response in an **output cell** just below the input cell (that’s 2, so Sage confirms that 1 plus 1 is 2). Click again in the cell, replace $1+1$ by $2+2$, and evaluate it. Notice how much quicker it is now. That’s because a Sage process had to be started the first time, and then stayed ready.\n",
    "\n",
    "Congratulations, you have done your first calculations with Sage."
   ]
  },
  {
   "cell_type": "markdown",
   "metadata": {},
   "source": [
    "## Using the Jupyter notebook\n",
    "\n",
    "Now take some time to explore the <kbd>Help</kbd> menu. You find abundant information on Jupyter, Sage, and friends. \n",
    "For now we just review the basics of Jupyter notebook. Use the plus button in the toolbar to create a new input cell below this paragraph (you may need to first click this paragraph to focus), then calculate any simple expression of your liking.\n",
    "\n",
    "You can move around and edit any cell by clicking in it. Go back and change your $2+2$ above to $3+3$ and evaluate it once again.\n",
    "\n",
    "You can also edit any **text cell** by double clicking on it. Try it now! The text you see is using the [Markdown](https://jupyter-notebook.readthedocs.io/en/latest/examples/Notebook/Working%20With%20Markdown%20Cells.html) markup language. Do some changes to the text, and evaluate it again to rerender it. Markdown supports a fair amount of basic formatting, such as bold, underline, basic lists, and so forth. Thanks to the LaTeX rendering engine [MathJax](https://www.mathjax.org/), you may embed mathematical formulae such as $\\sin x - y^3$ just like with LaTeX. It can be fun to type in fairly complicated math, like this:\n",
    "\n",
    "$$\n",
    "    \\zeta(s)=\\sum_{n=1}^{\\infty}\\frac{1}{n^s}=\\prod_p \\left(\\frac{1}{1-p^{-s}}\\right)\n",
    "$$\n",
    "\n",
    "If you *mess everything up*, you can use the menu <kbd>Kernel</kbd> > <kbd>Restart Kernel</kbd> to restart Sage. You can also use the menu <kbd>File</kbd> > <kbd>Save Notebook</kbd> to save notebook, and <kbd>File</kbd> > <kbd>Revert Notebook to Checkpoint</kbd> to reset to any previously saved version."
   ]
  },
  {
   "cell_type": "markdown",
   "metadata": {},
   "source": [
    "## More interactions\n",
    "\n",
    "We are now done with basic interaction with Sage. Much richer interactions are possible thanks to Jupyter’s *interactive widgets*. Evaluate the next code cell, and try clicking on the sliders to illustrate multiplication below. "
   ]
  },
  {
   "cell_type": "code",
   "execution_count": null,
   "metadata": {},
   "outputs": [],
   "source": [
    "@interact\n",
    "def f(n=(1..15), m=(1..15)):\n",
    "    print(\"n * m = {} = {}\".format(n * m, factor(n * m)))\n",
    "    P = polygon([(0, 0), (0, n), (m, n), (m, 0)])\n",
    "    P.show(aspect_ratio=1, gridlines='minor', figsize=[3, 3], xmax=14, ymax=14)"
   ]
  },
  {
   "cell_type": "markdown",
   "metadata": {},
   "source": [
    "Also, you can try changing the slider ranges to something different by editing the input cell (make sure to also change `xmax`, `ymax`)."
   ]
  },
  {
   "cell_type": "markdown",
   "metadata": {},
   "source": [
    "## A brief tour\n",
    "\n",
    "We start showcasing the different areas of mathematics covered by Sage.\n",
    "<a id='index-1'></a>"
   ]
  },
  {
   "cell_type": "markdown",
   "metadata": {},
   "source": [
    "This should output a rational number. If you know Python, notice the difference; Sage knows fractions!"
   ]
  },
  {
   "cell_type": "code",
   "execution_count": null,
   "metadata": {},
   "outputs": [],
   "source": [
    "4/6"
   ]
  },
  {
   "cell_type": "markdown",
   "metadata": {},
   "source": [
    "### Math display\n",
    "\n",
    "`%display latex` turns on math typesetting using MathJax. Type `%display plain` to turn it off."
   ]
  },
  {
   "cell_type": "code",
   "execution_count": null,
   "metadata": {},
   "outputs": [],
   "source": [
    "%display latex"
   ]
  },
  {
   "cell_type": "code",
   "execution_count": null,
   "metadata": {},
   "outputs": [],
   "source": [
    "factor(x^10 - 1)"
   ]
  },
  {
   "cell_type": "code",
   "execution_count": null,
   "metadata": {},
   "outputs": [],
   "source": [
    "%display plain\n",
    "factor(x^10 - 1)"
   ]
  },
  {
   "cell_type": "markdown",
   "metadata": {},
   "source": [
    "### Plots"
   ]
  },
  {
   "cell_type": "code",
   "execution_count": null,
   "metadata": {},
   "outputs": [],
   "source": [
    "plot(sin(10*x))"
   ]
  },
  {
   "cell_type": "markdown",
   "metadata": {},
   "source": [
    "### Interactive widgets"
   ]
  },
  {
   "cell_type": "code",
   "execution_count": null,
   "metadata": {},
   "outputs": [],
   "source": [
    "@interact\n",
    "def plt(n=5, f=[sin, cos, tan]):\n",
    "    return plot(f(n*x))"
   ]
  },
  {
   "cell_type": "markdown",
   "metadata": {},
   "source": [
    "### 3D plots"
   ]
  },
  {
   "cell_type": "code",
   "execution_count": null,
   "metadata": {},
   "outputs": [],
   "source": [
    "plot3d(lambda x, y: x^2 + y^2, (-2,2), (-2,2))"
   ]
  },
  {
   "cell_type": "markdown",
   "metadata": {},
   "source": [
    "### Calculus"
   ]
  },
  {
   "cell_type": "code",
   "execution_count": null,
   "metadata": {},
   "outputs": [],
   "source": [
    "%display latex\n",
    "var('x,y')\n",
    "f = (cos(pi/4 - x) - tan(x)) / (1 - sin(pi/4 + x))\n",
    "limit(f, x = pi/4, dir='minus')"
   ]
  },
  {
   "cell_type": "code",
   "execution_count": null,
   "metadata": {},
   "outputs": [],
   "source": [
    "solve([x^2+y^2 == 1, y^2 == x^3 + x + 1], x, y)"
   ]
  },
  {
   "cell_type": "code",
   "execution_count": null,
   "metadata": {},
   "outputs": [],
   "source": [
    "plot3d(sin(pi*sqrt(x^2 + y^2)) / sqrt(x^2 + y^2), (x, -5, 5), (y, -5, 5))"
   ]
  },
  {
   "cell_type": "code",
   "execution_count": null,
   "metadata": {},
   "outputs": [],
   "source": [
    "contour_plot(y^2 + 1 - x^3 - x, (x,-pi,pi), (y,-pi,pi),\n",
    "             contours=[-8,-4,0,4,8], colorbar=True)"
   ]
  },
  {
   "cell_type": "markdown",
   "metadata": {},
   "source": [
    "### Algebra"
   ]
  },
  {
   "cell_type": "code",
   "execution_count": null,
   "metadata": {},
   "outputs": [],
   "source": [
    "factor(x^100 - 1)"
   ]
  },
  {
   "cell_type": "code",
   "execution_count": null,
   "metadata": {},
   "outputs": [],
   "source": [
    "p = 54 * x^4 + 36*x^3 - 102*x^2 - 72*x - 12\n",
    "p.factor()"
   ]
  },
  {
   "cell_type": "code",
   "execution_count": null,
   "metadata": {},
   "outputs": [],
   "source": [
    "for K in [ZZ, QQ, ComplexField(16), QQ[sqrt(2)], GF(5)]:\n",
    "    print(K, \":\"); print(K['x'](p).factor())"
   ]
  },
  {
   "cell_type": "code",
   "execution_count": null,
   "metadata": {},
   "outputs": [],
   "source": [
    "ZZ.category()"
   ]
  },
  {
   "cell_type": "code",
   "execution_count": null,
   "metadata": {},
   "outputs": [],
   "source": [
    "sorted( ZZ.category().axioms() )"
   ]
  },
  {
   "cell_type": "markdown",
   "metadata": {},
   "source": [
    "### Linear algebra"
   ]
  },
  {
   "cell_type": "code",
   "execution_count": null,
   "metadata": {},
   "outputs": [],
   "source": [
    "A = matrix(GF(7), 4, [5,5,4,3,0,3,3,4,0,1,5,4,6,0,6,3]); A"
   ]
  },
  {
   "cell_type": "code",
   "execution_count": null,
   "metadata": {},
   "outputs": [],
   "source": [
    "P = A.characteristic_polynomial(); P"
   ]
  },
  {
   "cell_type": "code",
   "execution_count": null,
   "metadata": {},
   "outputs": [],
   "source": [
    "P(A)  # Cayley-Hamilton"
   ]
  },
  {
   "cell_type": "code",
   "execution_count": null,
   "metadata": {},
   "outputs": [],
   "source": [
    "A.eigenspaces_left()"
   ]
  },
  {
   "cell_type": "markdown",
   "metadata": {},
   "source": [
    "Computing the rank of a large sparse matrix:"
   ]
  },
  {
   "cell_type": "code",
   "execution_count": null,
   "metadata": {},
   "outputs": [],
   "source": [
    "M = random_matrix(GF(7), 10000, sparse=True, density=3/10000)\n",
    "M.rank()"
   ]
  },
  {
   "cell_type": "markdown",
   "metadata": {},
   "source": [
    "### Geometry"
   ]
  },
  {
   "cell_type": "code",
   "execution_count": null,
   "metadata": {},
   "outputs": [],
   "source": [
    "polytopes.truncated_icosidodecahedron().plot()"
   ]
  },
  {
   "cell_type": "markdown",
   "metadata": {},
   "source": [
    "### Programming and plotting"
   ]
  },
  {
   "cell_type": "code",
   "execution_count": null,
   "metadata": {},
   "outputs": [],
   "source": [
    "n, l, x, y = 10000, 1, 0, 0\n",
    "p = [[0, 0]]\n",
    "for k in range(n):\n",
    "    theta = (2 * pi * random()).n(digits=5)\n",
    "    x, y = x + l * cos(theta), y + l * sin(theta)\n",
    "    p.append([x, y])\n",
    "g = line(p, thickness=.4) + line([p[n], [0, 0]], color='red', thickness=2)\n",
    "g.show(aspect_ratio=1)"
   ]
  },
  {
   "cell_type": "markdown",
   "metadata": {},
   "source": [
    "### Interactive plots"
   ]
  },
  {
   "cell_type": "code",
   "execution_count": null,
   "metadata": {},
   "outputs": [],
   "source": [
    "var('x')\n",
    "@interact\n",
    "def g(f='x*sin(1/x)',\n",
    "      c=slider(-1, 1, .01, default=-.5),\n",
    "      n=(1..30),\n",
    "      xinterval=range_slider(-1, 1, .1, default=(-8,8), label=\"x-interval\"),\n",
    "      yinterval=range_slider(-1, 1, .1, default=(-3,3), label=\"y-interval\")):\n",
    "    f = eval(f)\n",
    "    x0 = c\n",
    "    degree = n\n",
    "    xmin,xmax = xinterval\n",
    "    ymin,ymax = yinterval\n",
    "    p   = plot(f, xmin, xmax, thickness=4)\n",
    "    dot = point((x0,f(x=x0)),pointsize=80,rgbcolor=(1,0,0))\n",
    "    ft = f.taylor(x,x0,degree)\n",
    "    pt = plot(ft, xmin, xmax, color='red', thickness=2, fill=f)\n",
    "    show(dot + p + pt, ymin=ymin, ymax=ymax, xmin=xmin, xmax=xmax)\n",
    "    html(r'$f(x)\\;=\\;%s$' % latex(f))\n",
    "    html(r'$P_{%s}(x)\\;=\\;%s+R_{%s}(x)$' % (degree,latex(ft),degree))"
   ]
  },
  {
   "cell_type": "markdown",
   "metadata": {},
   "source": [
    "### Graph Theory\n",
    "\n",
    "Coloring graphs:"
   ]
  },
  {
   "cell_type": "code",
   "execution_count": null,
   "metadata": {},
   "outputs": [],
   "source": [
    "g = graphs.PetersenGraph(); g\n",
    "g.plot(partition=g.coloring())"
   ]
  },
  {
   "cell_type": "markdown",
   "metadata": {},
   "source": [
    "### Combinatorics\n",
    "\n",
    "Fast counting:"
   ]
  },
  {
   "cell_type": "code",
   "execution_count": null,
   "metadata": {},
   "outputs": [],
   "source": [
    "Partitions(100000).cardinality()"
   ]
  },
  {
   "cell_type": "markdown",
   "metadata": {},
   "source": [
    "Playing poker:"
   ]
  },
  {
   "cell_type": "code",
   "execution_count": null,
   "metadata": {},
   "outputs": [],
   "source": [
    "Suits   = Set([\"Hearts\", \"Diamonds\", \"Spades\", \"Clubs\"])\n",
    "Values  = Set([2, 3, 4, 5, 6, 7, 8, 9, 10, \"Jack\", \"Queen\", \"King\", \"Ace\"])\n",
    "Cards   = cartesian_product([Values, Suits])\n",
    "Hands   = Subsets(Cards, 5)\n",
    "Hands.random_element()"
   ]
  },
  {
   "cell_type": "code",
   "execution_count": null,
   "metadata": {},
   "outputs": [],
   "source": [
    "Hands.cardinality()"
   ]
  },
  {
   "cell_type": "markdown",
   "metadata": {},
   "source": [
    "### Algebraic Combinatorics\n",
    "\n",
    "Drawing an affine root systems:"
   ]
  },
  {
   "cell_type": "code",
   "execution_count": null,
   "metadata": {},
   "outputs": [],
   "source": [
    "L = RootSystem([\"G\", 2, 1]).ambient_space()\n",
    "p = L.plot(affine=False, level=1)\n",
    "p.show(aspect_ratio=[1, 1, 2], frame=False)"
   ]
  },
  {
   "cell_type": "markdown",
   "metadata": {},
   "source": [
    "### Number Theory"
   ]
  },
  {
   "cell_type": "code",
   "execution_count": null,
   "metadata": {},
   "outputs": [],
   "source": [
    "E = EllipticCurve('389a')\n",
    "plot(E, thickness=3)"
   ]
  },
  {
   "cell_type": "markdown",
   "metadata": {},
   "source": [
    "### Games\n",
    "\n",
    "Sudoku solver:"
   ]
  },
  {
   "cell_type": "code",
   "execution_count": null,
   "metadata": {},
   "outputs": [],
   "source": [
    "S = Sudoku('5...8..49...5...3..673....115..........2.8..........187....415..3...2...49..5...3'); S"
   ]
  },
  {
   "cell_type": "code",
   "execution_count": null,
   "metadata": {},
   "outputs": [],
   "source": [
    "list(S.solve())"
   ]
  },
  {
   "cell_type": "markdown",
   "metadata": {},
   "source": [
    "## Help system\n",
    "\n",
    "We review the three main ways to get help in Sage:\n",
    "\n",
    "- Navigating through the documentation  \n",
    "- Tab-completion \n",
    "- Contextual help "
   ]
  },
  {
   "cell_type": "markdown",
   "metadata": {},
   "source": [
    "### Navigating through the documentation\n",
    "\n",
    "The <kbd>Help</kbd> menu gives access to the HTML documentation for Sage (and other pieces of software). This includes the Sage tutorial, the Sage thematic tutorials, and the Sage reference manual. \n",
    "\n",
    "This documentation is also available online from Sage’s web site\n",
    "[https://doc.sagemath.org](https://doc.sagemath.org/html/en/index.html) ."
   ]
  },
  {
   "cell_type": "markdown",
   "metadata": {},
   "source": [
    "### Completion and contextual documentation\n",
    "\n",
    "Start typing something and press the Tab key. The interface tries to complete it with a command name. If there is more than one completion, then they are all presented to you. Remember that Sage is case sensitive, i.e., it differentiates upper case from lower case. Hence the Tab completion of\n",
    "`klein` won’t show you the `KleinFourGroup` command that builds the group $ \\ZZ/2 \\times \\ZZ/2 $ as a permutation group. Try pressing the <kbd>Tab</kbd> key in the following cells (with cursor at the end):"
   ]
  },
  {
   "cell_type": "code",
   "execution_count": null,
   "metadata": {
    "tags": []
   },
   "outputs": [],
   "source": [
    "klein"
   ]
  },
  {
   "cell_type": "code",
   "execution_count": null,
   "metadata": {},
   "outputs": [],
   "source": [
    "Klein"
   ]
  },
  {
   "cell_type": "markdown",
   "metadata": {},
   "source": [
    "To see documentation and examples for a command, type a question mark `?` at the end of the command name and evaluate the cell.\n"
   ]
  },
  {
   "cell_type": "code",
   "execution_count": null,
   "metadata": {},
   "outputs": [],
   "source": [
    "KleinFourGroup?"
   ]
  },
  {
   "cell_type": "markdown",
   "metadata": {},
   "source": [
    "#### Exercise A\n",
    "\n",
    "What is the largest prime factor of $600851475143$?"
   ]
  },
  {
   "cell_type": "code",
   "execution_count": null,
   "metadata": {},
   "outputs": [],
   "source": [
    "factor?"
   ]
  },
  {
   "cell_type": "code",
   "execution_count": null,
   "metadata": {},
   "outputs": [],
   "source": []
  },
  {
   "cell_type": "markdown",
   "metadata": {},
   "source": [
    "### Digression: assignments and methods\n",
    "\n",
    "In the above manipulations we did not store any data for later use. This can be done in Sage with the assignment symbol as in:"
   ]
  },
  {
   "cell_type": "code",
   "execution_count": null,
   "metadata": {},
   "outputs": [],
   "source": [
    "a = 3\n",
    "b = 2\n",
    "a + b"
   ]
  },
  {
   "cell_type": "markdown",
   "metadata": {},
   "source": [
    "This can be understood as Sage evaluating the expression to the right of the = sign and creating the appropriate object, and then associating that object with a label, given by the left-hand side. Multiple assignments can be done at once:"
   ]
  },
  {
   "cell_type": "code",
   "execution_count": null,
   "metadata": {},
   "outputs": [],
   "source": [
    "a, b = 2, 3\n",
    "a"
   ]
  },
  {
   "cell_type": "code",
   "execution_count": null,
   "metadata": {},
   "outputs": [],
   "source": [
    "b"
   ]
  },
  {
   "cell_type": "markdown",
   "metadata": {},
   "source": [
    "This allows us to swap the values of two variables directly:"
   ]
  },
  {
   "cell_type": "code",
   "execution_count": null,
   "metadata": {},
   "outputs": [],
   "source": [
    "a, b = 2, 3\n",
    "a, b = b, a\n",
    "a, b"
   ]
  },
  {
   "cell_type": "markdown",
   "metadata": {},
   "source": [
    "We can also assign a common value to several variables simultaneously:"
   ]
  },
  {
   "cell_type": "code",
   "execution_count": null,
   "metadata": {},
   "outputs": [],
   "source": [
    "c = d = 1\n",
    "c, d"
   ]
  },
  {
   "cell_type": "code",
   "execution_count": null,
   "metadata": {},
   "outputs": [],
   "source": [
    "d = 2\n",
    "c, d"
   ]
  },
  {
   "cell_type": "markdown",
   "metadata": {},
   "source": [
    "Note that when we use the word *variable* in the computer-science sense we\n",
    "mean “a label attached to some data stored by Sage”. Once an object is\n",
    "created, some *methods* apply to it. This means *functions* but instead of\n",
    "writing `f(my_object)` you write `my_object.f()`:"
   ]
  },
  {
   "cell_type": "code",
   "execution_count": null,
   "metadata": {},
   "outputs": [],
   "source": [
    "p = 17\n",
    "p.is_prime()"
   ]
  },
  {
   "cell_type": "markdown",
   "metadata": {},
   "source": [
    "See [Tutorial: Objects and Classes in Python and Sage](http://doc.sagemath.org/html/en/thematic_tutorials/tutorial-objects-and-classes.html#tutorial-objects-and-classes) for details."
   ]
  },
  {
   "cell_type": "markdown",
   "metadata": {},
   "source": [
    "### Method discovery with tab-completion\n",
    "\n",
    "<a id='index-2'></a>"
   ]
  },
  {
   "cell_type": "markdown",
   "metadata": {},
   "source": [
    "To know all methods of an object you can once more use <kbd>Tab</kbd>-completion. Write the name of the object followed by a dot and then press <kbd>Tab</kbd>:"
   ]
  },
  {
   "cell_type": "code",
   "execution_count": null,
   "metadata": {},
   "outputs": [],
   "source": [
    "a."
   ]
  },
  {
   "cell_type": "markdown",
   "metadata": {},
   "source": [
    "#### Exercise B\n",
    "\n",
    "Create the permutation 51324 and assign it to the variable p."
   ]
  },
  {
   "cell_type": "code",
   "execution_count": null,
   "metadata": {
    "tags": []
   },
   "outputs": [],
   "source": [
    "Permutation?"
   ]
  },
  {
   "cell_type": "code",
   "execution_count": null,
   "metadata": {},
   "outputs": [],
   "source": []
  },
  {
   "cell_type": "markdown",
   "metadata": {
    "tags": []
   },
   "source": [
    "What is the inverse of p?"
   ]
  },
  {
   "cell_type": "code",
   "execution_count": null,
   "metadata": {},
   "outputs": [],
   "source": [
    "p.inv"
   ]
  },
  {
   "cell_type": "markdown",
   "metadata": {},
   "source": [
    "Does $p$ have the pattern 123? What about 1234? And 312? (even if you don’t\n",
    "know what a pattern is, you should be able to find a command that does this)."
   ]
  },
  {
   "cell_type": "code",
   "execution_count": null,
   "metadata": {},
   "outputs": [],
   "source": [
    "p.pat"
   ]
  },
  {
   "cell_type": "markdown",
   "metadata": {},
   "source": [
    "### Linear algebra"
   ]
  },
  {
   "cell_type": "markdown",
   "metadata": {},
   "source": [
    "#### Exercise C\n",
    "\n",
    "Use the matrix() command to create the following matrix.\n",
    "\n",
    "$$\n",
    "M = \\left(\\begin{array}{rrrr}\n",
    "10 & 4 & 1 & 1 \\\\\n",
    "4 & 6 & 5 & 1 \\\\\n",
    "1 & 5 & 6 & 4 \\\\\n",
    "1 & 1 & 4 & 10\n",
    "\\end{array}\\right)\n",
    "$$"
   ]
  },
  {
   "cell_type": "code",
   "execution_count": null,
   "metadata": {},
   "outputs": [],
   "source": [
    "matrix?"
   ]
  },
  {
   "cell_type": "code",
   "execution_count": null,
   "metadata": {},
   "outputs": [],
   "source": []
  },
  {
   "cell_type": "markdown",
   "metadata": {},
   "source": [
    "Then, using methods of the matrix,\n",
    "\n",
    "1. Compute the determinant of the matrix.  \n",
    "1. Compute the echelon form of the matrix.  \n",
    "1. Compute the eigenvalues of the matrix.  \n",
    "1. Compute the kernel of the matrix.  \n",
    "1. Compute the LLL decomposition of the matrix (and lookup the\n",
    "   documentation for what LLL is if needed!)  "
   ]
  },
  {
   "cell_type": "code",
   "execution_count": null,
   "metadata": {},
   "outputs": [],
   "source": []
  },
  {
   "cell_type": "markdown",
   "metadata": {},
   "source": [
    "Now that you know how to access the different methods of matrices,\n",
    "\n",
    "1. Create the vector $ v = (1, -1, -1, 1) $.  \n",
    "1. Compute the two products: $ M \\cdot v $ and $ v \\cdot M $. What mathematical operation is Sage doing implicitly?  "
   ]
  },
  {
   "cell_type": "code",
   "execution_count": null,
   "metadata": {},
   "outputs": [],
   "source": [
    "vector?"
   ]
  },
  {
   "cell_type": "code",
   "execution_count": null,
   "metadata": {},
   "outputs": [],
   "source": []
  },
  {
   "cell_type": "markdown",
   "metadata": {},
   "source": [
    "Vectors in Sage can be used as row vectors or column vectors. A method such as eigenspaces might not\n",
    "return what you expect, so it is best to specify `eigenspaces_left` or `eigenspaces_right` instead. Same thing for kernel (`left_kernel` or `right_kernel`), and so on."
   ]
  },
  {
   "cell_type": "markdown",
   "metadata": {},
   "source": [
    "### Plotting\n",
    "\n",
    "The `plot()` command allows you to draw plots of functions. Recall\n",
    "that you can access the documentation by pressing the <kbd>Tab</kbd> key\n",
    "after writing `plot?` in a cell:"
   ]
  },
  {
   "cell_type": "code",
   "execution_count": null,
   "metadata": {},
   "outputs": [],
   "source": [
    "plot?"
   ]
  },
  {
   "cell_type": "markdown",
   "metadata": {},
   "source": [
    "Here is a simple example:"
   ]
  },
  {
   "cell_type": "code",
   "execution_count": null,
   "metadata": {},
   "outputs": [],
   "source": [
    "var('x')  # make sure x is a symbolic variable"
   ]
  },
  {
   "cell_type": "code",
   "execution_count": null,
   "metadata": {},
   "outputs": [],
   "source": [
    "plot(sin(x^2), (x, 0, 10))"
   ]
  },
  {
   "cell_type": "markdown",
   "metadata": {},
   "source": [
    "Here is a more complicated plot. Try to change every single input to the plot\n",
    "command in some way, evaluating to see what happens:"
   ]
  },
  {
   "cell_type": "code",
   "execution_count": null,
   "metadata": {},
   "outputs": [],
   "source": [
    "P = plot(sin(x^2), (x, -2, 2), rgbcolor=(0.8, 0, 0.2), thickness=3, linestyle='--', fill='axis')\n",
    "show(P, gridlines=True)"
   ]
  },
  {
   "cell_type": "markdown",
   "metadata": {},
   "source": [
    "Above we used the `show(P)` command to show a plot after it was created. You can\n",
    "also use `P.show()` instead:"
   ]
  },
  {
   "cell_type": "code",
   "execution_count": null,
   "metadata": {},
   "outputs": [],
   "source": [
    "P.show(gridlines=True)"
   ]
  },
  {
   "cell_type": "markdown",
   "metadata": {},
   "source": [
    "Try putting the cursor right after `P.show(` and pressing <kbd>Tab</kbd> key to get a list of\n",
    "the options for how you can change the values of the given inputs."
   ]
  },
  {
   "cell_type": "code",
   "execution_count": null,
   "metadata": {},
   "outputs": [],
   "source": [
    "P.show("
   ]
  },
  {
   "cell_type": "markdown",
   "metadata": {},
   "source": [
    "Plotting multiple functions at once is as easy as adding the plots together:"
   ]
  },
  {
   "cell_type": "code",
   "execution_count": null,
   "metadata": {},
   "outputs": [],
   "source": [
    "P1 = plot(sin(x), (x, 0, 2*pi))\n",
    "P2 = plot(cos(x), (x, 0, 2*pi), rgbcolor='red')\n",
    "P1 + P2"
   ]
  },
  {
   "cell_type": "markdown",
   "metadata": {},
   "source": [
    "### Symbolic Expressions\n",
    "\n",
    "Here is an example of a symbolic function:"
   ]
  },
  {
   "cell_type": "code",
   "execution_count": null,
   "metadata": {},
   "outputs": [],
   "source": [
    "f(x) = x^4 - 8*x^2 - 3*x + 2\n",
    "f(x)"
   ]
  },
  {
   "cell_type": "code",
   "execution_count": null,
   "metadata": {},
   "outputs": [],
   "source": [
    "f(-3)"
   ]
  },
  {
   "cell_type": "markdown",
   "metadata": {},
   "source": [
    "This is an example of a function in the *mathematical* variable $ x $. When Sage\n",
    "starts, it defines the symbol $ x $ to be a mathematical variable. If you want\n",
    "to use other symbols for variables, you must define them first:"
   ]
  },
  {
   "cell_type": "code",
   "execution_count": null,
   "metadata": {},
   "outputs": [],
   "source": [
    "x^2"
   ]
  },
  {
   "cell_type": "code",
   "execution_count": null,
   "metadata": {},
   "outputs": [],
   "source": [
    "u + v"
   ]
  },
  {
   "cell_type": "code",
   "execution_count": null,
   "metadata": {},
   "outputs": [],
   "source": [
    "var('u v')"
   ]
  },
  {
   "cell_type": "code",
   "execution_count": null,
   "metadata": {},
   "outputs": [],
   "source": [
    "u + v"
   ]
  },
  {
   "cell_type": "markdown",
   "metadata": {},
   "source": [
    "Still, it is possible to define symbolic functions without first\n",
    "defining their variables:"
   ]
  },
  {
   "cell_type": "code",
   "execution_count": null,
   "metadata": {},
   "outputs": [],
   "source": [
    "f(w) = w^2\n",
    "f(3)"
   ]
  },
  {
   "cell_type": "markdown",
   "metadata": {},
   "source": [
    "In this case those variables are defined implicitly:"
   ]
  },
  {
   "cell_type": "code",
   "execution_count": null,
   "metadata": {},
   "outputs": [],
   "source": [
    "w"
   ]
  },
  {
   "cell_type": "markdown",
   "metadata": {},
   "source": [
    "#### Exercise D\n",
    "\n",
    "Define the symbolic function $ f(x) = x \\sin x^2 $. Plot $ f $ on the\n",
    "domain $ [-3, 3] $ and color it red. Use the `find_root()` method to\n",
    "numerically approximate the root of $ f $ on the interval $ [1, 2] $:"
   ]
  },
  {
   "cell_type": "code",
   "execution_count": null,
   "metadata": {},
   "outputs": [],
   "source": []
  },
  {
   "cell_type": "markdown",
   "metadata": {},
   "source": [
    "Compute the tangent line to $ f $ at $ x = 1 $:"
   ]
  },
  {
   "cell_type": "code",
   "execution_count": null,
   "metadata": {},
   "outputs": [],
   "source": []
  },
  {
   "cell_type": "markdown",
   "metadata": {},
   "source": [
    "Plot $ f $ and the tangent line to $ f $ at $ x = 1 $ in one image:"
   ]
  },
  {
   "cell_type": "code",
   "execution_count": null,
   "metadata": {},
   "outputs": [],
   "source": []
  },
  {
   "cell_type": "markdown",
   "metadata": {},
   "source": [
    "#### Exercise E (Advanced)\n",
    "\n",
    "Solve the following equation for $y$\n",
    "\n",
    "$$\n",
    "y = 1 + x y^2\n",
    "$$\n",
    "\n",
    "There are two solutions, take the one for which $ \\lim_{x\\to0} y(x) = 1 $.\n",
    "(Don’t forget to create the variables $ x $ and $ y $!)."
   ]
  },
  {
   "cell_type": "code",
   "execution_count": null,
   "metadata": {},
   "outputs": [],
   "source": []
  },
  {
   "cell_type": "markdown",
   "metadata": {},
   "source": [
    "Expand $ y $ as a truncated Taylor series around $ 0 $ containing\n",
    "$ n = 10 $ terms."
   ]
  },
  {
   "cell_type": "code",
   "execution_count": null,
   "metadata": {},
   "outputs": [],
   "source": []
  },
  {
   "cell_type": "markdown",
   "metadata": {},
   "source": [
    "Do you recognize the coefficients of the Taylor series expansion? You might want to use the [On-Line Encyclopedia of Integer Sequences](https://oeis.org/), or better yet, Sage’s class OEIS which queries the encyclopedia:"
   ]
  },
  {
   "cell_type": "code",
   "execution_count": null,
   "metadata": {},
   "outputs": [],
   "source": [
    "oeis?"
   ]
  },
  {
   "cell_type": "code",
   "execution_count": null,
   "metadata": {},
   "outputs": [],
   "source": []
  },
  {
   "cell_type": "markdown",
   "metadata": {},
   "source": [
    "Congratulations for completing your first Sage tutorial!"
   ]
  },
  {
   "cell_type": "markdown",
   "metadata": {},
   "source": [
    "## Exploring further"
   ]
  },
  {
   "cell_type": "markdown",
   "metadata": {},
   "source": [
    "### Accessing Sage\n",
    "\n",
    "- The [Sage cell service](https://sagecell.sagemath.org) lets you evaluate individual Sage commands.  \n",
    "- In general, Sage computations can be embedded in any web page using [Thebe](https://thebe.readthedocs.io/en/stable).\n",
    "- [Binder](https://mybinder.org) is a service that lets you run Jupyter online on top of an arbitrary software stack. \n",
    "  Sessions are free, anonymous, and temporary. You can use one of the existing repositories, or create your own.  \n",
    "\n",
    "<a id='index-3'></a>"
   ]
  },
  {
   "cell_type": "markdown",
   "metadata": {},
   "source": [
    "### Ways to use Sage\n",
    "\n",
    "There are other ways beyond the Jupyter Notebook to use Sage: interactive command line, program scripts, etc.\n",
    "See [Sage tutorial](https://doc.sagemath.org/html/en/tutorial/introduction.html#ways-to-use-sage)."
   ]
  },
  {
   "cell_type": "markdown",
   "metadata": {},
   "source": [
    "### Resources\n",
    "\n",
    "- [Sage tutorial](https://doc.sagemath.org/html/en/tutorial/index.html)  \n",
    "- [Sage thematic tutorials](https://doc.sagemath.org/html/en/thematic_tutorials/index.html)  \n",
    "- [The open book *Computational Mathematics with Sage*](https://www.sagemath.org/sagebook/english.html)\n",
    "- [Sage quick reference cards](https://wiki.sagemath.org/quickref)  \n",
    "- [Sage webpage https://www.sagemath.org](https://www.sagemath.org)  \n",
    "- [Ask Sage https://ask.sagemath.org](https://ask.sagemath.org)  \n",
    "- [Sage GitHub repo](https://github.com/sagemath/sage/issues)"
   ]
  }
 ],
 "metadata": {
  "kernelspec": {
   "display_name": "SageMath 10.1.rc0",
   "language": "sage",
   "name": "sagemath"
  },
  "language_info": {
   "codemirror_mode": {
    "name": "ipython",
    "version": 3
   },
   "file_extension": ".py",
   "mimetype": "text/x-python",
   "name": "python",
   "nbconvert_exporter": "python",
   "pygments_lexer": "ipython3",
   "version": "3.11.5"
  }
 },
 "nbformat": 4,
 "nbformat_minor": 4
}
